{
 "cells": [
  {
   "cell_type": "code",
   "execution_count": 1,
   "id": "d2a44a5c",
   "metadata": {},
   "outputs": [],
   "source": [
    "import pandas as pd\n",
    "import subprocess\n",
    "import os\n",
    "import json\n",
    "from pprint import pprint"
   ]
  },
  {
   "cell_type": "code",
   "execution_count": 2,
   "id": "73f012d0",
   "metadata": {},
   "outputs": [],
   "source": [
    "import matplotlib.pyplot as plt"
   ]
  },
  {
   "cell_type": "code",
   "execution_count": 3,
   "id": "1ef41b9a",
   "metadata": {},
   "outputs": [],
   "source": [
    "import numpy as np"
   ]
  },
  {
   "cell_type": "markdown",
   "id": "c27e1a1e",
   "metadata": {},
   "source": [
    "Get the rank 1 pLDDT from each file"
   ]
  },
  {
   "cell_type": "code",
   "execution_count": 4,
   "id": "4a50ff6d",
   "metadata": {},
   "outputs": [],
   "source": [
    "pLDDTs = {}\n",
    "\n",
    "\n",
    "folders = [f for f in os.listdir() if os.path.isdir(f)]\n",
    "\n",
    "\n",
    "\n",
    "for f in os.listdir():\n",
    "    if os.path.isdir(f):\n",
    "        if 'ipynb' not in str(f):\n",
    "            os.chdir(f)\n",
    "            \n",
    "            for t in os.listdir():\n",
    "                if 'rank_001' in t and '.json' in t:\n",
    "\n",
    "                    # Specify the path to your JSON file\n",
    "                    json_file_path = t\n",
    "\n",
    "                    # Open and read the JSON file\n",
    "                    with open(json_file_path, 'r') as json_file:\n",
    "                        data = json.load(json_file)\n",
    "\n",
    "                    # Now, 'data' contains the contents of the JSON file as a Python dictionary\n",
    "                    number = f.split('_')[0]\n",
    "                    pLDDTs[int(number)] = np.average(data['plddt'])\n",
    "                            \n",
    "            os.chdir('..')\n",
    "\n",
    "pLDDTs = dict(sorted(pLDDTs.items()))\n",
    "            "
   ]
  },
  {
   "cell_type": "markdown",
   "id": "e5248915",
   "metadata": {},
   "source": [
    "Plot pLDDT scores: change the bins to capture your distributions, and change the list ranges and legend to plot each of your parameter groups as a different color"
   ]
  },
  {
   "cell_type": "code",
   "execution_count": 5,
   "id": "b966cf44",
   "metadata": {},
   "outputs": [
    {
     "data": {
      "image/png": "[encoded data removed]",
      "text/plain": [
       "<Figure size 640x480 with 1 Axes>"
      ]
     },
     "metadata": {},
     "output_type": "display_data"
    }
   ],
   "source": [
    "plt.hist(list(pLDDTs.values())[:44], alpha=0.75,bins=[88,88.5,89,89.5,90,90.5,91,91.5,92])\n",
    "plt.hist(list(pLDDTs.values())[44:], alpha=0.75,bins=[88,88.5,89,89.5,90,90.5,91,91.5,92])\n",
    "#plt.hist(list(pLDDTs.values())[56:], alpha=0.75,bins=[88,88.5,89,89.5,90,90.5,91,91.5,92])\n",
    "plt.xlabel('pLDDT')\n",
    "plt.ylabel('Count')\n",
    "plt.legend(['14A','18A'])\n",
    "plt.savefig('pLDDT_plot.png',dpi=300)"
   ]
  },
  {
   "cell_type": "code",
   "execution_count": null,
   "id": "aac15994",
   "metadata": {},
   "outputs": [],
   "source": []
  }
 ],
 "metadata": {
  "kernelspec": {
   "display_name": "mlfold",
   "language": "python",
   "name": "mlfold"
  },
  "language_info": {
   "codemirror_mode": {
    "name": "ipython",
    "version": 3
   },
   "file_extension": ".py",
   "mimetype": "text/x-python",
   "name": "python",
   "nbconvert_exporter": "python",
   "pygments_lexer": "ipython3",
   "version": "3.9.12"
  }
 },
 "nbformat": 4,
 "nbformat_minor": 5
}
