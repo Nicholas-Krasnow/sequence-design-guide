{
 "cells": [
  {
   "cell_type": "code",
   "execution_count": 6,
   "id": "46d8d94f",
   "metadata": {},
   "outputs": [],
   "source": [
    "from Bio import SeqIO"
   ]
  },
  {
   "cell_type": "code",
   "execution_count": 7,
   "id": "b90c68af",
   "metadata": {},
   "outputs": [],
   "source": [
    "from Bio.Seq import Seq"
   ]
  },
  {
   "cell_type": "markdown",
   "id": "703038a5",
   "metadata": {},
   "source": [
    "Fix the fasta names"
   ]
  },
  {
   "cell_type": "code",
   "execution_count": 8,
   "id": "c033e56e",
   "metadata": {},
   "outputs": [],
   "source": [
    " seqs = list(SeqIO.parse('deduplicated_designs.fasta','fasta'))"
   ]
  },
  {
   "cell_type": "code",
   "execution_count": 9,
   "id": "23122862",
   "metadata": {},
   "outputs": [],
   "source": [
    "for i,x in enumerate(seqs):\n",
    "    x.id = str(i+1)\n",
    "    \n",
    "    x.name=''\n",
    "    x.description=''"
   ]
  },
  {
   "cell_type": "code",
   "execution_count": 10,
   "id": "0e4b1682",
   "metadata": {},
   "outputs": [
    {
     "data": {
      "text/plain": [
       "88"
      ]
     },
     "execution_count": 10,
     "metadata": {},
     "output_type": "execute_result"
    }
   ],
   "source": [
    "SeqIO.write(seqs,\"deduplicated_designs_renamed.fasta\", \"fasta\")"
   ]
  },
  {
   "cell_type": "code",
   "execution_count": null,
   "id": "9987c0a1",
   "metadata": {},
   "outputs": [],
   "source": []
  }
 ],
 "metadata": {
  "kernelspec": {
   "display_name": "mlfold",
   "language": "python",
   "name": "mlfold"
  },
  "language_info": {
   "codemirror_mode": {
    "name": "ipython",
    "version": 3
   },
   "file_extension": ".py",
   "mimetype": "text/x-python",
   "name": "python",
   "nbconvert_exporter": "python",
   "pygments_lexer": "ipython3",
   "version": "3.9.12"
  }
 },
 "nbformat": 4,
 "nbformat_minor": 5
}
