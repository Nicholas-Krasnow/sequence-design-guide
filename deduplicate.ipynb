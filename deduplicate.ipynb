{
 "cells": [
  {
   "cell_type": "code",
   "execution_count": 13,
   "id": "f7b67924",
   "metadata": {},
   "outputs": [],
   "source": [
    "from Bio import SeqIO"
   ]
  },
  {
   "cell_type": "markdown",
   "id": "5d59a7ea",
   "metadata": {},
   "source": [
    "Read in all the fasta output designs, from each sequence prediciton run with different parameters. then combine the sequences from each design parameters run into one fasta. Add all the deduplicated sequences to a new fasta."
   ]
  },
  {
   "cell_type": "markdown",
   "id": "8f98c2d1",
   "metadata": {},
   "source": [
    "modify the .fa arguments to the paths where your generated sequences are"
   ]
  },
  {
   "cell_type": "code",
   "execution_count": 14,
   "id": "b18db8f2",
   "metadata": {},
   "outputs": [],
   "source": [
    "seqs_params_1 = list(SeqIO.parse('path/to/seqs/1.fa','fasta'))"
   ]
  },
  {
   "cell_type": "code",
   "execution_count": 15,
   "id": "514d0ac6",
   "metadata": {},
   "outputs": [],
   "source": [
    "seqs_params_2 = list(SeqIO.parse('path/to/seqs/2.fa','fasta'))"
   ]
  },
  {
   "cell_type": "markdown",
   "id": "831b1315",
   "metadata": {},
   "source": [
    "Define the function. Gives the list of the parsed fasta lists and a list of counts of unique sequences to take from the respective list"
   ]
  },
  {
   "cell_type": "code",
   "execution_count": 18,
   "id": "19359d74",
   "metadata": {},
   "outputs": [],
   "source": [
    "def deduplicate(input_list, count_list):\n",
    "    unique_seqs = []\n",
    "    unique_fastas = []\n",
    "    duplicates = 0\n",
    "    \n",
    "    for i, seqList in enumerate(input_list):\n",
    "        added = 0\n",
    "        \n",
    "        for i2,x in enumerate(seqList):\n",
    "            \n",
    "            if i2 >0: #skip the first sequence which is WT BoNT/E\n",
    "                if added < count_list[i]:\n",
    "                    if x.seq in unique_seqs:\n",
    "                        duplicates+= 1\n",
    "                    else:\n",
    "                        unique_fastas.append(x)\n",
    "                        unique_seqs.append(x.seq)\n",
    "                        added += 1\n",
    "    \n",
    "    return(unique_fastas, unique_seqs, duplicates)"
   ]
  },
  {
   "cell_type": "markdown",
   "id": "5950c5e4",
   "metadata": {},
   "source": [
    "Define the arguments to run the function with"
   ]
  },
  {
   "cell_type": "code",
   "execution_count": 19,
   "id": "32efa491",
   "metadata": {},
   "outputs": [],
   "source": [
    "inlist = [seqs_params_1,seqs_params_2]"
   ]
  },
  {
   "cell_type": "code",
   "execution_count": 20,
   "id": "e15d3d8c",
   "metadata": {},
   "outputs": [],
   "source": [
    "countlist = [22,22]"
   ]
  },
  {
   "cell_type": "code",
   "execution_count": 21,
   "id": "78679b08",
   "metadata": {},
   "outputs": [],
   "source": [
    "x,y,z = deduplicate(inlist,countlist)"
   ]
  },
  {
   "cell_type": "code",
   "execution_count": 22,
   "id": "e019098f",
   "metadata": {},
   "outputs": [
    {
     "data": {
      "text/plain": [
       "88"
      ]
     },
     "execution_count": 22,
     "metadata": {},
     "output_type": "execute_result"
    }
   ],
   "source": [
    "SeqIO.write(x, \"deduplicated_designs.fasta\", \"fasta\")"
   ]
  },
  {
   "cell_type": "code",
   "execution_count": null,
   "id": "e7f14996",
   "metadata": {},
   "outputs": [],
   "source": []
  }
 ],
 "metadata": {
  "kernelspec": {
   "display_name": "mlfold",
   "language": "python",
   "name": "mlfold"
  },
  "language_info": {
   "codemirror_mode": {
    "name": "ipython",
    "version": 3
   },
   "file_extension": ".py",
   "mimetype": "text/x-python",
   "name": "python",
   "nbconvert_exporter": "python",
   "pygments_lexer": "ipython3",
   "version": "3.9.12"
  }
 },
 "nbformat": 4,
 "nbformat_minor": 5
}
