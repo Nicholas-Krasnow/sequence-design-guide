{
  "cells": [
    {
      "cell_type": "code",
      "execution_count": null,
      "metadata": {
        "id": "yEMk-REbt6mV"
      },
      "outputs": [],
      "source": [
        "#install pyrosetta\n",
        "!pip install pyrosettacolabsetup\n",
        "import pyrosettacolabsetup; pyrosettacolabsetup.install_pyrosetta()\n",
        "import pyrosetta; pyrosetta.init()"
      ]
    },
    {
      "cell_type": "code",
      "execution_count": null,
      "metadata": {
        "id": "Pxy9H5S1ub-w"
      },
      "outputs": [],
      "source": [
        "#change directory to the google drive home directory\n",
        "import os\n",
        "os.chdir('google_drive/MyDrive/')"
      ]
    },
    {
      "cell_type": "code",
      "execution_count": null,
      "metadata": {
        "id": "uu0xWKorumSK"
      },
      "outputs": [],
      "source": [
        "#set up pyrosetta\n",
        "from pyrosetta import *\n",
        "from google.colab import files\n",
        "init()"
      ]
    },
    {
      "cell_type": "code",
      "execution_count": null,
      "metadata": {
        "id": "OHiAsGnGyFej"
      },
      "outputs": [],
      "source": [
        "#navigate to folder that has your pdbs\n",
        "os.chdir('pdbs')"
      ]
    },
    {
      "cell_type": "code",
      "source": [
        "#define function to calculate distance between a-carbons in the protein and a-carbons in the substrate\n",
        "def distance(pose, R1, R2):\n",
        "  A1 = pose.residue(R1)\n",
        "  A2 = pose.residue(R2)\n",
        "  p1 = A1.xyz(\"CA\")\n",
        "  p2 = A2.xyz(\"CA\") #If your substrate is not a peptide, then change \"CA\" to whichever substrate residue atom each distance should be measured to\n",
        "\n",
        "  vector = (p1-p2)\n",
        "\n",
        "  return vector.norm()"
      ],
      "metadata": {
        "id": "VZ-GlmfqLuUZ"
      },
      "execution_count": null,
      "outputs": []
    },
    {
      "cell_type": "markdown",
      "source": [
        "In the following step, impoirt your file by replacing the file name with the pdb file name of your homolog with substrate bound"
      ],
      "metadata": {
        "id": "d0M-S72L7xWs"
      }
    },
    {
      "cell_type": "code",
      "source": [
        "poseA = pose_from_pdb(\"1xtg.pdb\")"
      ],
      "metadata": {
        "id": "UL8z02Jd2wTB"
      },
      "execution_count": null,
      "outputs": []
    },
    {
      "cell_type": "code",
      "source": [
        "sequenceA = poseA.sequence() #gets the sequence of the protein, including the bound substrate"
      ],
      "metadata": {
        "id": "6OUck11Nr9Yk"
      },
      "execution_count": null,
      "outputs": []
    },
    {
      "cell_type": "code",
      "source": [
        "sequenceA #view your sequence. Note that ligands will be present, too"
      ],
      "metadata": {
        "id": "26Rj4NzZsJ2n"
      },
      "execution_count": null,
      "outputs": []
    },
    {
      "cell_type": "markdown",
      "source": [
        "run the next cell with the sequence of the substrate pasted into the parantheses to find its position in the sequence"
      ],
      "metadata": {
        "id": "RpI1__OK78Mx"
      }
    },
    {
      "cell_type": "code",
      "source": [
        "substrate_site = sequenceA.find('')"
      ],
      "metadata": {
        "id": "issPB7xXsK9R"
      },
      "execution_count": null,
      "outputs": []
    },
    {
      "cell_type": "code",
      "source": [
        "subResA = sequenceA[substrate_site:] #stores the substrate sequence"
      ],
      "metadata": {
        "id": "Tjz4KAAFsY-4"
      },
      "execution_count": null,
      "outputs": []
    },
    {
      "cell_type": "code",
      "source": [
        "protResA = sequenceA[:substrate_site] #stores the protein sequence"
      ],
      "metadata": {
        "id": "z54cHN8lsblH"
      },
      "execution_count": null,
      "outputs": []
    },
    {
      "cell_type": "code",
      "source": [
        "#this block gets the indices of the protein residues up until the ligand(s) that might appear at the end (in this case 'Z' for zinc).\n",
        "# May need to change 'Z' to the ligand that appears at the end of your sequence, if applicable.\n",
        "protIndA = []\n",
        "i = 1\n",
        "\n",
        "if sequenceA.find('Z') != -1:\n",
        "  while i < sequenceA.find('Z'):\n",
        "    protIndA.append(i)\n",
        "    i += 1\n",
        "else:\n",
        "  protIndA = list(range(len(sequenceA)))[:substrate_site]\n",
        "  protIndA = [x+1 for x in protIndA]"
      ],
      "metadata": {
        "id": "-VvOFw6VuvHr"
      },
      "execution_count": null,
      "outputs": []
    },
    {
      "cell_type": "code",
      "source": [
        "#get the indices of the substrate\n",
        "subIndA = []\n",
        "for i in range(len(subResA)):\n",
        "  subIndA.append(sequenceA.find(subResA) + i +1)"
      ],
      "metadata": {
        "id": "Ozee8Wwvvxt6"
      },
      "execution_count": null,
      "outputs": []
    },
    {
      "cell_type": "markdown",
      "source": [
        "The next cell defines the distance cutoff for residues to constrain, in Angstroms. change this value to your desired cutoff"
      ],
      "metadata": {
        "id": "HudFGC_d8XXc"
      }
    },
    {
      "cell_type": "code",
      "source": [
        "cutoff = 18"
      ],
      "metadata": {
        "id": "4pld4BCI8PV-"
      },
      "execution_count": null,
      "outputs": []
    },
    {
      "cell_type": "code",
      "source": [
        "bindingPocketResA = []\n",
        "#iterate over protease residues\n",
        "for x in protIndA:\n",
        "  #iterate over substrate residues\n",
        "  for y in subIndA:\n",
        "\n",
        "    #special case for Zn, which has no a-carbon. #If you have other non-protein ligands you'll need to update the code to treat them as special cases too\n",
        "    if poseA.residue(y).name() == 'ZN':\n",
        "      t1 = poseA.residue(y).xyz(\"ZN\")\n",
        "      t2 = poseA.residue(x).xyz(\"CA\")\n",
        "      dist = (t1-t2).norm()\n",
        "      if dist < cutoff:\n",
        "        bindingPocketResA.append(x)\n",
        "        break\n",
        "\n",
        "    else:\n",
        "      #distance between amino acids\n",
        "      dist = distance(poseA,x,y)\n",
        "      if dist < cutoff:\n",
        "        bindingPocketResA.append(x)\n",
        "        break\n"
      ],
      "metadata": {
        "id": "_bfklmvGwCEY"
      },
      "execution_count": null,
      "outputs": []
    },
    {
      "cell_type": "code",
      "source": [
        "#format list of residues with distance below cutoff\n",
        "bindPocketPDB_A = []\n",
        "for x in bindingPocketResA:\n",
        "  n = poseA.pdb_info().pose2pdb(x)\n",
        "  n = n.split()\n",
        "  n = ' '.join(n[:1])\n",
        "  bindPocketPDB_A.append(n)"
      ],
      "metadata": {
        "id": "dsPhkgiyy_4E"
      },
      "execution_count": null,
      "outputs": []
    },
    {
      "cell_type": "markdown",
      "source": [
        "create a pymol command to select all the residues within the distance cutoff (the binding pocket). change 1xtg below to your substrate-bound homolog pdb id"
      ],
      "metadata": {
        "id": "fGUdPDQX9TPJ"
      }
    },
    {
      "cell_type": "code",
      "source": [
        "command = 'select bp, 1xtg and chain A and resi '\n",
        "for x in bindPocketPDB_A:\n",
        "  command = command + x + '+'"
      ],
      "metadata": {
        "id": "XTAGgoVKzmNA"
      },
      "execution_count": null,
      "outputs": []
    },
    {
      "cell_type": "code",
      "source": [
        "#view the command so that it can be copied and pasted into pymol, allowing you to highlight the active site residues by running it in pymol with the homolog protein structure open to see the residues.\n",
        "command"
      ],
      "metadata": {
        "id": "4Y6jWNb80CJ9"
      },
      "execution_count": null,
      "outputs": []
    },
    {
      "cell_type": "markdown",
      "source": [
        "Next step: convert the active site residue indices in the substrate-bound homolog to the active site residues in your target protein with the following steps"
      ],
      "metadata": {
        "id": "iwc11Ji11stz"
      }
    },
    {
      "cell_type": "code",
      "source": [
        "cd .."
      ],
      "metadata": {
        "id": "IAZ5zZ6Jsa5A"
      },
      "execution_count": null,
      "outputs": []
    },
    {
      "cell_type": "code",
      "source": [
        "cd fastas"
      ],
      "metadata": {
        "id": "MhfAdQjtscoe"
      },
      "execution_count": null,
      "outputs": []
    },
    {
      "cell_type": "code",
      "source": [
        "!pip install biopython\n",
        "from Bio import AlignIO"
      ],
      "metadata": {
        "id": "IwGIHoLnjr30"
      },
      "execution_count": null,
      "outputs": []
    },
    {
      "cell_type": "markdown",
      "source": [
        "Run the next cell with the name of your alignment file pasted in the first set of parantheses (include the .fasta extension)"
      ],
      "metadata": {
        "id": "R1gqSVxb_HoE"
      }
    },
    {
      "cell_type": "code",
      "source": [
        "alignment = AlignIO.read('', \"fasta\")"
      ],
      "metadata": {
        "id": "OVCdjzXA36b1"
      },
      "execution_count": null,
      "outputs": []
    },
    {
      "cell_type": "code",
      "source": [
        "#Define the function to map the homolog residues to the target protein residues by sequence alignment\n",
        "def index_convert(resList):\n",
        "\n",
        "  outList = []\n",
        "  outList_num = []\n",
        "  res_counter_A = 0\n",
        "  res_counter_B = 0\n",
        "  for pos in range(alignment.get_alignment_length()):\n",
        "\n",
        "    if alignment[1][pos] != '-':\n",
        "      res_counter_B += 1\n",
        "\n",
        "    if alignment[0][pos] != '-':\n",
        "      res_counter_A += 1\n",
        "      if res_counter_A in resList:\n",
        "        outList.append(alignment[1][res_counter_B])\n",
        "        outList_num.append(res_counter_B)\n",
        "\n",
        "  return(outList,outList_num)\n"
      ],
      "metadata": {
        "id": "QImEatb-uj3y"
      },
      "execution_count": null,
      "outputs": []
    },
    {
      "cell_type": "code",
      "source": [
        "#convert to int type\n",
        "bindPocketPDB_A_int = []\n",
        "for x in bindPocketPDB_A:\n",
        "  bindPocketPDB_A_int.append(int(x))"
      ],
      "metadata": {
        "id": "d3zUXRdHxsVm"
      },
      "execution_count": null,
      "outputs": []
    },
    {
      "cell_type": "code",
      "source": [
        "res, num = index_convert(bindPocketPDB_A_int)"
      ],
      "metadata": {
        "id": "Fg4H5wZfzLsV"
      },
      "execution_count": null,
      "outputs": []
    },
    {
      "cell_type": "markdown",
      "source": [
        "Run the following cell by replacing BoNTE_AF with the pdb id of your target protein to generate the pymol command to highlight the active site residues.\n",
        "Copy this command and run in pymol with the target protein structure open to see the residues."
      ],
      "metadata": {
        "id": "bM6nERqV_vxV"
      }
    },
    {
      "cell_type": "code",
      "source": [
        "command = 'select bp, BoNTE_AF and chain A and resi '\n",
        "for x in num:\n",
        "  command = command + str(x) + '+'"
      ],
      "metadata": {
        "id": "ZWGtGxjZzNEr"
      },
      "execution_count": null,
      "outputs": []
    },
    {
      "cell_type": "code",
      "source": [
        "command"
      ],
      "metadata": {
        "id": "gtF2NAigzVxI"
      },
      "execution_count": null,
      "outputs": []
    },
    {
      "cell_type": "markdown",
      "source": [
        "Now make the list of target protein residues to fix. This list will be pasted into the conservation analysis script in the next phase of design when the full list of constraints is generated"
      ],
      "metadata": {
        "id": "BrZZLpCD1lJW"
      }
    },
    {
      "cell_type": "code",
      "source": [
        "PDB_fix_Res = num"
      ],
      "metadata": {
        "id": "iCNnKk6Eztak"
      },
      "execution_count": null,
      "outputs": []
    },
    {
      "cell_type": "code",
      "source": [
        "#get the number of fixed residues\n",
        "len(PDB_fix_Res)"
      ],
      "metadata": {
        "id": "0G_YoPsQkSeI"
      },
      "execution_count": null,
      "outputs": []
    },
    {
      "cell_type": "code",
      "source": [
        "#print the list of fixed residues to be copied\n",
        "PDB_fix_Res"
      ],
      "metadata": {
        "id": "qZ6XCiptlyLf"
      },
      "execution_count": null,
      "outputs": []
    },
    {
      "cell_type": "code",
      "source": [],
      "metadata": {
        "id": "C0jWJmWaPt2x"
      },
      "execution_count": null,
      "outputs": []
    }
  ],
  "metadata": {
    "colab": {
      "provenance": []
    },
    "kernelspec": {
      "display_name": "Python 3",
      "name": "python3"
    },
    "language_info": {
      "name": "python"
    }
  },
  "nbformat": 4,
  "nbformat_minor": 0
}